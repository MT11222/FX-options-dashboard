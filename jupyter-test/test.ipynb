{
 "cells": [
  {
   "cell_type": "code",
   "execution_count": null,
   "metadata": {},
   "outputs": [
    {
     "name": "stdout",
     "output_type": "stream",
     "text": [
      "Requirement already satisfied: pandas in /Library/Frameworks/Python.framework/Versions/3.12/lib/python3.12/site-packages (2.2.2)\n",
      "Requirement already satisfied: numpy>=1.26.0 in /Library/Frameworks/Python.framework/Versions/3.12/lib/python3.12/site-packages (from pandas) (2.0.1)\n",
      "Requirement already satisfied: python-dateutil>=2.8.2 in /Library/Frameworks/Python.framework/Versions/3.12/lib/python3.12/site-packages (from pandas) (2.9.0.post0)\n",
      "Requirement already satisfied: pytz>=2020.1 in /Library/Frameworks/Python.framework/Versions/3.12/lib/python3.12/site-packages (from pandas) (2024.1)\n",
      "Requirement already satisfied: tzdata>=2022.7 in /Library/Frameworks/Python.framework/Versions/3.12/lib/python3.12/site-packages (from pandas) (2024.1)\n",
      "Requirement already satisfied: six>=1.5 in /Library/Frameworks/Python.framework/Versions/3.12/lib/python3.12/site-packages (from python-dateutil>=2.8.2->pandas) (1.16.0)\n",
      "\n",
      "\u001b[1m[\u001b[0m\u001b[34;49mnotice\u001b[0m\u001b[1;39;49m]\u001b[0m\u001b[39;49m A new release of pip is available: \u001b[0m\u001b[31;49m24.0\u001b[0m\u001b[39;49m -> \u001b[0m\u001b[32;49m24.2\u001b[0m\n",
      "\u001b[1m[\u001b[0m\u001b[34;49mnotice\u001b[0m\u001b[1;39;49m]\u001b[0m\u001b[39;49m To update, run: \u001b[0m\u001b[32;49mpip3 install --upgrade pip\u001b[0m\n",
      "Note: you may need to restart the kernel to use updated packages.\n"
     ]
    }
   ],
   "source": [
    "%pip install pandas"
   ]
  },
  {
   "cell_type": "code",
   "execution_count": 56,
   "metadata": {},
   "outputs": [
    {
     "name": "stdout",
     "output_type": "stream",
     "text": [
      "Requirement already satisfied: numpy in /Library/Frameworks/Python.framework/Versions/3.12/lib/python3.12/site-packages (2.0.1)\n",
      "\n",
      "\u001b[1m[\u001b[0m\u001b[34;49mnotice\u001b[0m\u001b[1;39;49m]\u001b[0m\u001b[39;49m A new release of pip is available: \u001b[0m\u001b[31;49m24.0\u001b[0m\u001b[39;49m -> \u001b[0m\u001b[32;49m25.1.1\u001b[0m\n",
      "\u001b[1m[\u001b[0m\u001b[34;49mnotice\u001b[0m\u001b[1;39;49m]\u001b[0m\u001b[39;49m To update, run: \u001b[0m\u001b[32;49mpip3 install --upgrade pip\u001b[0m\n",
      "Note: you may need to restart the kernel to use updated packages.\n",
      "Requirement already satisfied: matplotlib in /Library/Frameworks/Python.framework/Versions/3.12/lib/python3.12/site-packages (3.9.1)\n",
      "Requirement already satisfied: contourpy>=1.0.1 in /Library/Frameworks/Python.framework/Versions/3.12/lib/python3.12/site-packages (from matplotlib) (1.2.1)\n",
      "Requirement already satisfied: cycler>=0.10 in /Library/Frameworks/Python.framework/Versions/3.12/lib/python3.12/site-packages (from matplotlib) (0.12.1)\n",
      "Requirement already satisfied: fonttools>=4.22.0 in /Library/Frameworks/Python.framework/Versions/3.12/lib/python3.12/site-packages (from matplotlib) (4.53.1)\n",
      "Requirement already satisfied: kiwisolver>=1.3.1 in /Library/Frameworks/Python.framework/Versions/3.12/lib/python3.12/site-packages (from matplotlib) (1.4.5)\n",
      "Requirement already satisfied: numpy>=1.23 in /Library/Frameworks/Python.framework/Versions/3.12/lib/python3.12/site-packages (from matplotlib) (2.0.1)\n",
      "Requirement already satisfied: packaging>=20.0 in /Library/Frameworks/Python.framework/Versions/3.12/lib/python3.12/site-packages (from matplotlib) (24.1)\n",
      "Requirement already satisfied: pillow>=8 in /Library/Frameworks/Python.framework/Versions/3.12/lib/python3.12/site-packages (from matplotlib) (10.4.0)\n",
      "Requirement already satisfied: pyparsing>=2.3.1 in /Library/Frameworks/Python.framework/Versions/3.12/lib/python3.12/site-packages (from matplotlib) (3.1.2)\n",
      "Requirement already satisfied: python-dateutil>=2.7 in /Library/Frameworks/Python.framework/Versions/3.12/lib/python3.12/site-packages (from matplotlib) (2.9.0.post0)\n",
      "Requirement already satisfied: six>=1.5 in /Library/Frameworks/Python.framework/Versions/3.12/lib/python3.12/site-packages (from python-dateutil>=2.7->matplotlib) (1.16.0)\n",
      "\n",
      "\u001b[1m[\u001b[0m\u001b[34;49mnotice\u001b[0m\u001b[1;39;49m]\u001b[0m\u001b[39;49m A new release of pip is available: \u001b[0m\u001b[31;49m24.0\u001b[0m\u001b[39;49m -> \u001b[0m\u001b[32;49m25.1.1\u001b[0m\n",
      "\u001b[1m[\u001b[0m\u001b[34;49mnotice\u001b[0m\u001b[1;39;49m]\u001b[0m\u001b[39;49m To update, run: \u001b[0m\u001b[32;49mpip3 install --upgrade pip\u001b[0m\n",
      "Note: you may need to restart the kernel to use updated packages.\n",
      "Requirement already satisfied: scipy in /Library/Frameworks/Python.framework/Versions/3.12/lib/python3.12/site-packages (1.14.0)\n",
      "Requirement already satisfied: numpy<2.3,>=1.23.5 in /Library/Frameworks/Python.framework/Versions/3.12/lib/python3.12/site-packages (from scipy) (2.0.1)\n",
      "\n",
      "\u001b[1m[\u001b[0m\u001b[34;49mnotice\u001b[0m\u001b[1;39;49m]\u001b[0m\u001b[39;49m A new release of pip is available: \u001b[0m\u001b[31;49m24.0\u001b[0m\u001b[39;49m -> \u001b[0m\u001b[32;49m25.1.1\u001b[0m\n",
      "\u001b[1m[\u001b[0m\u001b[34;49mnotice\u001b[0m\u001b[1;39;49m]\u001b[0m\u001b[39;49m To update, run: \u001b[0m\u001b[32;49mpip3 install --upgrade pip\u001b[0m\n",
      "Note: you may need to restart the kernel to use updated packages.\n",
      "Requirement already satisfied: polars in /Library/Frameworks/Python.framework/Versions/3.12/lib/python3.12/site-packages (1.4.0)\n",
      "\n",
      "\u001b[1m[\u001b[0m\u001b[34;49mnotice\u001b[0m\u001b[1;39;49m]\u001b[0m\u001b[39;49m A new release of pip is available: \u001b[0m\u001b[31;49m24.0\u001b[0m\u001b[39;49m -> \u001b[0m\u001b[32;49m25.1.1\u001b[0m\n",
      "\u001b[1m[\u001b[0m\u001b[34;49mnotice\u001b[0m\u001b[1;39;49m]\u001b[0m\u001b[39;49m To update, run: \u001b[0m\u001b[32;49mpip3 install --upgrade pip\u001b[0m\n",
      "Note: you may need to restart the kernel to use updated packages.\n"
     ]
    }
   ],
   "source": [
    "%pip install numpy\n",
    "%pip install matplotlib\n",
    "%pip install scipy\n",
    "%pip install polars"
   ]
  },
  {
   "cell_type": "code",
   "execution_count": 62,
   "metadata": {},
   "outputs": [],
   "source": [
    "import numpy as np\n",
    "import pandas as pd\n",
    "import matplotlib.pyplot as plt\n",
    "from scipy import stats\n",
    "import polars as pl\n",
    "import datetime as dt"
   ]
  },
  {
   "cell_type": "code",
   "execution_count": 61,
   "metadata": {},
   "outputs": [
    {
     "name": "stdout",
     "output_type": "stream",
     "text": [
      "Hello world\n"
     ]
    }
   ],
   "source": [
    "print(\"Hello world\")\n"
   ]
  },
  {
   "cell_type": "code",
   "execution_count": 39,
   "metadata": {},
   "outputs": [
    {
     "name": "stdout",
     "output_type": "stream",
     "text": [
      "Python Learning\n",
      "15\n",
      "P\n",
      "7\n",
      "Macro Learning\n"
     ]
    }
   ],
   "source": [
    "\n",
    "phrase = \"Python Learning\"\n",
    "print(phrase)\n",
    "phrase = \"Python Learning\"\n",
    "print(len(phrase))\n",
    "phrase = \"Python Learning\"\n",
    "print(phrase[0])\n",
    "phrase = \"Python Learning\"\n",
    "print(phrase.index(\"Lear\"))\n",
    "phrase = \"Python Learning\"\n",
    "print(phrase.replace(\"Python\", \"Macro\"))\n"
   ]
  },
  {
   "cell_type": "code",
   "execution_count": 40,
   "metadata": {},
   "outputs": [
    {
     "name": "stdout",
     "output_type": "stream",
     "text": [
      "3.1415\n",
      "1\n",
      "1\n"
     ]
    }
   ],
   "source": [
    "print(3.1415)\n",
    "print(10%3)\n",
    "print(7%3)"
   ]
  },
  {
   "cell_type": "code",
   "execution_count": 3,
   "metadata": {},
   "outputs": [
    {
     "name": "stdout",
     "output_type": "stream",
     "text": [
      "3.1415 equals pi\n",
      "4\n",
      "1024\n",
      "4\n",
      "20\n",
      "3\n"
     ]
    }
   ],
   "source": [
    "my_num=3.1415\n",
    "print(str(my_num)+\" equals pi\")\n",
    "print(abs(-4))\n",
    "print(pow(2,10))\n",
    "print(min(4,20))\n",
    "print(max(4,20))\n",
    "print(round(my_num))"
   ]
  },
  {
   "cell_type": "code",
   "execution_count": 3,
   "metadata": {},
   "outputs": [
    {
     "name": "stdout",
     "output_type": "stream",
     "text": [
      "Calculator\n",
      "24.0\n"
     ]
    }
   ],
   "source": [
    "print(\"Calculator\")\n",
    "num1 = input(\"Enter number 1:\")\n",
    "num2 = input(\"Enter number 2:\")\n",
    "result = float(num1) + float(num2) \n",
    "print(result)"
   ]
  },
  {
   "cell_type": "code",
   "execution_count": 4,
   "metadata": {},
   "outputs": [
    {
     "name": "stdout",
     "output_type": "stream",
     "text": [
      "James Sarah\n",
      "['James', 'Mike', 'Emily']\n",
      "['Mike', 'Emily']\n"
     ]
    }
   ],
   "source": [
    "friends = [\"James\", \"Sarah\", \"Emily\"]\n",
    "            \n",
    "print(friends[0]+ \" \" + friends[1])\n",
    "friends[1]= \"Mike\"\n",
    "print(friends)\n",
    "print(friends[1:])\n"
   ]
  },
  {
   "cell_type": "code",
   "execution_count": 15,
   "metadata": {},
   "outputs": [
    {
     "name": "stdout",
     "output_type": "stream",
     "text": [
      "['James', 'Sarah', 'Emily', 'Josh', 2, 3, 5, 7, 11]\n",
      "['James', 'Anna', 'Emily', 'Josh', 2, 3, 5, 7, 11]\n",
      "1\n",
      "[]\n"
     ]
    }
   ],
   "source": [
    "friends = [\"James\", \"Sarah\", \"Emily\"]\n",
    "lucky_numbers=(2, 3, 5, 7, 11)\n",
    "friends.append(\"Josh\")\n",
    "friends.extend(lucky_numbers)\n",
    "print(friends)\n",
    "friends.insert(1, \"Anna\")\n",
    "friends.remove(\"Sarah\")\n",
    "print(friends)\n",
    "print(friends.index(\"Anna\"))\n",
    "friends2=friends.copy()\n",
    "friends.clear()\n",
    "print(friends)"
   ]
  },
  {
   "cell_type": "markdown",
   "metadata": {},
   "source": []
  },
  {
   "cell_type": "code",
   "execution_count": 87,
   "metadata": {},
   "outputs": [
    {
     "name": "stdout",
     "output_type": "stream",
     "text": [
      "5\n",
      "Tuples are immutable, you can only change lists\n",
      "Lists are square brackets, tuples are rounded brackets\n"
     ]
    }
   ],
   "source": [
    "coordinates = (4, 5)\n",
    "print(coordinates[1])\n",
    "print(\"Tuples are immutable, you can only change lists\")\n",
    "print(\"Lists are square brackets, tuples are rounded brackets\")"
   ]
  },
  {
   "cell_type": "code",
   "execution_count": 6,
   "metadata": {},
   "outputs": [
    {
     "name": "stdout",
     "output_type": "stream",
     "text": [
      "Are you hot or are you smart?\n",
      "You are smart\n"
     ]
    }
   ],
   "source": [
    "is_hot=False\n",
    "is_smart=True\n",
    "if is_hot or is_smart:\n",
    "    print(\"Are you hot or are you smart?\")\n",
    "else:\n",
    "    print(\"You are ngmi\")\n",
    "\n",
    "if is_hot:\n",
    "    print(\"You are hot\")\n",
    "else:\n",
    "    if is_smart:\n",
    "        print(\"You are smart\")\n",
    "if not is_hot and not is_smart:\n",
    "    print(\"You are ngmi\")\n"
   ]
  },
  {
   "cell_type": "code",
   "execution_count": 57,
   "metadata": {},
   "outputs": [
    {
     "name": "stdout",
     "output_type": "stream",
     "text": [
      "8\n"
     ]
    }
   ],
   "source": [
    "def max_num (num1, num2, num3):\n",
    "    if num1>= num2 and num1>=num3:\n",
    "        return num1\n",
    "    elif num2>=num1 and num2>=num3:\n",
    "        return num2\n",
    "    else:\n",
    "        return num3\n",
    "print(max_num(3,5,8))"
   ]
  },
  {
   "cell_type": "code",
   "execution_count": 58,
   "metadata": {},
   "outputs": [
    {
     "name": "stdout",
     "output_type": "stream",
     "text": [
      "== means equals\n",
      "!= means not equal to\n"
     ]
    }
   ],
   "source": [
    "print(\"== means equals\")\n",
    "print(\"!= means not equal to\")"
   ]
  },
  {
   "cell_type": "code",
   "execution_count": 18,
   "metadata": {},
   "outputs": [
    {
     "name": "stdout",
     "output_type": "stream",
     "text": [
      "16.0\n"
     ]
    }
   ],
   "source": [
    "num1 = float(input(\"Enter number 1:\"))\n",
    "op = input(\"Enter operator:\")\n",
    "num2 = float(input(\"Enter number 2:\"))\n",
    "if op == \"+\":\n",
    "    print(num1 + num2)\n",
    "elif op == \"-\":\n",
    "    print(num1 - num2)\n",
    "elif op == \"*\":\n",
    "    print(num1 * num2)\n",
    "elif op == \"**\":\n",
    "    print(num1**num2)\n",
    "elif op == \"/\":\n",
    "    print( num1 / num2)\n",
    "else:\n",
    "    print(\"Error\")"
   ]
  },
  {
   "cell_type": "code",
   "execution_count": 64,
   "metadata": {},
   "outputs": [
    {
     "name": "stdout",
     "output_type": "stream",
     "text": [
      "January\n",
      "February\n",
      "N/A\n"
     ]
    }
   ],
   "source": [
    "Month_Conversions = {\n",
    "    \"Jan\": \"January\",\n",
    "    \"Feb\": \"February\",\n",
    "    \"Mar\": \"March\",\n",
    "}\n",
    "print(Month_Conversions[\"Jan\"])\n",
    "print(Month_Conversions.get(\"Feb\"))\n",
    "print(Month_Conversions.get(\"Sec\",\"N/A\"))"
   ]
  },
  {
   "cell_type": "code",
   "execution_count": 46,
   "metadata": {},
   "outputs": [
    {
     "name": "stdout",
     "output_type": "stream",
     "text": [
      "Array: [10 20 30 40 50]\n",
      "Mean: 30.0\n",
      "Sum: 150\n",
      "Double each value: [ 20  40  60  80 100]\n"
     ]
    }
   ],
   "source": [
    "import numpy as np\n",
    "numbers = np.array([10,20,30,40,50])\n",
    "print(f\"Array: {numbers}\")\n",
    "print(f\"Mean: {np.mean(numbers)}\")\n",
    "print(\"Sum:\", np.sum(numbers))\n",
    "print(\"Double each value:\", numbers*2)"
   ]
  },
  {
   "cell_type": "code",
   "execution_count": 8,
   "metadata": {},
   "outputs": [
    {
     "name": "stdout",
     "output_type": "stream",
     "text": [
      "70.75\n"
     ]
    }
   ],
   "source": [
    "numbers = np.array([75,100,63,45])\n",
    "print(np.mean(numbers))"
   ]
  },
  {
   "cell_type": "code",
   "execution_count": 17,
   "metadata": {},
   "outputs": [
    {
     "name": "stdout",
     "output_type": "stream",
     "text": [
      "27\n",
      "64\n",
      "Hi there Mik. You are 20\n",
      "None\n"
     ]
    },
    {
     "data": {
      "text/plain": [
       "8"
      ]
     },
     "execution_count": 17,
     "metadata": {},
     "output_type": "execute_result"
    }
   ],
   "source": [
    "def cube(num):\n",
    "    return num*num*num\n",
    "print(cube(3))\n",
    "result = cube(4)\n",
    "print(result)\n",
    "\n",
    "def say_hi(name, age):\n",
    "    print(\"Hi there \" + name + \". You are \" + str(age))\n",
    "#to run function:\n",
    "say_hi(\"Mik\", 20)\n",
    "\n",
    "def cube(num):\n",
    "    num**3\n",
    "#trying to print without return\n",
    "print(cube(2))\n",
    "\n",
    "def cube(num):\n",
    "    return num**3\n",
    "#using return function\n",
    "cube(2)"
   ]
  },
  {
   "cell_type": "code",
   "execution_count": null,
   "metadata": {},
   "outputs": [
    {
     "name": "stdout",
     "output_type": "stream",
     "text": [
      "Bad\n"
     ]
    }
   ],
   "source": [
    "#IMC Trading | Python for beginners 2/8 (https://www.youtube.com/playlist?list=PLrk7E_hqakTRHL02V-hxK2lDdblW12Apq)\n",
    "price = 14 #try other values\n",
    "if price < 6:\n",
    "    print(\"Really Good!\")\n",
    "elif price < 10:\n",
    "    print(\"Good\")\n",
    "elif price <= 14:\n",
    "    print(\"Bad\")\n",
    "else:\n",
    "    print(\"Really bad\")"
   ]
  },
  {
   "cell_type": "code",
   "execution_count": null,
   "metadata": {},
   "outputs": [
    {
     "name": "stdout",
     "output_type": "stream",
     "text": [
      "Bad\n"
     ]
    }
   ],
   "source": [
    "price = 10\n",
    "if price < 6:\n",
    "    print(\"Really Good!\")\n",
    "elif price < 10:\n",
    "    print(\"Good\")\n",
    "elif price <= 14:\n",
    "    print(\"Bad\")\n",
    "else:\n",
    "    print(\"Really bad\")\n"
   ]
  },
  {
   "cell_type": "code",
   "execution_count": 15,
   "metadata": {},
   "outputs": [
    {
     "data": {
      "text/plain": [
       "'Good!'"
      ]
     },
     "execution_count": 15,
     "metadata": {},
     "output_type": "execute_result"
    }
   ],
   "source": [
    "def classify_price(p):\n",
    "    if p<8:\n",
    "        return 'Good!'\n",
    "    elif p>12:\n",
    "        return \"Bad!\"\n",
    "    return \"Ok\"\n",
    "\n",
    "classify_price(7)"
   ]
  },
  {
   "cell_type": "code",
   "execution_count": 32,
   "metadata": {},
   "outputs": [
    {
     "data": {
      "text/plain": [
       "'Good!'"
      ]
     },
     "execution_count": 32,
     "metadata": {},
     "output_type": "execute_result"
    }
   ],
   "source": [
    "def classify_price(p, good_level=8, bad_level=12):\n",
    "#adding = to the variable means you can still set it to different values but by default it uses the value after the = sign\n",
    "    if p<good_level:\n",
    "        return \"Good!\"\n",
    "    if p>bad_level:\n",
    "        return \"Bad!\"\n",
    "    return 'Ok'\n",
    "\n",
    "classify_price(15,good_level=5,bad_level=6)\n",
    "\n",
    "def new_price(p,good_level,bad_level):\n",
    "    if p==4:\n",
    "        return \"Really bad!\"\n",
    "    return classify_price(p)\n",
    "new_price(5,8,12)"
   ]
  },
  {
   "cell_type": "code",
   "execution_count": 9,
   "metadata": {},
   "outputs": [
    {
     "name": "stdout",
     "output_type": "stream",
     "text": [
      "79.25\n"
     ]
    }
   ],
   "source": [
    "import numpy as np\n",
    "array = np.array([84,77,74,91,80,73,72,83])\n",
    "result = float(np.mean(array))\n",
    "print(result)"
   ]
  },
  {
   "cell_type": "code",
   "execution_count": 46,
   "metadata": {},
   "outputs": [
    {
     "name": "stdout",
     "output_type": "stream",
     "text": [
      "1\n",
      "2\n",
      "3\n",
      "1\n",
      "3\n",
      "5\n",
      "BREAK\n"
     ]
    },
    {
     "data": {
      "text/plain": [
       "10"
      ]
     },
     "execution_count": 46,
     "metadata": {},
     "output_type": "execute_result"
    }
   ],
   "source": [
    "#While loops\n",
    "x = 1\n",
    "while x < 4:\n",
    "    print(x)\n",
    "    x=x+1\n",
    "\n",
    "x=1\n",
    "while x<10:\n",
    "    print(x)\n",
    "    x=x+2\n",
    "    if x == 7:\n",
    "        print('BREAK')\n",
    "        break\n",
    "\n",
    "def stack_total(n):\n",
    "    total = 0\n",
    "    while n > 0:\n",
    "        total = total + n\n",
    "        n = n-1\n",
    "    return total\n",
    "stack_total(4)\n"
   ]
  },
  {
   "cell_type": "code",
   "execution_count": 80,
   "metadata": {},
   "outputs": [
    {
     "data": {
      "text/plain": [
       "[17, 20, 20, 13]"
      ]
     },
     "execution_count": 80,
     "metadata": {},
     "output_type": "execute_result"
    }
   ],
   "source": [
    "#Lists\n",
    "series = [10, 20, 30]\n",
    "series [-1]\n",
    "\n",
    "#want to cap integers in a list at 20 e.g.[17, 21, 22, 18] goes to [17, 20, 20, 18] i.e. \n",
    "def crate(numbers):\n",
    "    i = 0\n",
    "    while i < len(numbers):\n",
    "        if numbers[i] > 20:\n",
    "            numbers[i] = 20\n",
    "        i = i + 1\n",
    "    return numbers\n",
    "\n",
    "crate([18, 24, 16, 21])\n",
    "\n",
    "#better method:\n",
    "def crates(numbers1):\n",
    "    j = 0\n",
    "    result = []\n",
    "    while j < len(numbers1):\n",
    "        result.append(min(numbers1[j], 20))\n",
    "        j = j + 1\n",
    "    return result\n",
    "\n",
    "crates([17, 22, 29, 13])"
   ]
  },
  {
   "cell_type": "code",
   "execution_count": null,
   "metadata": {},
   "outputs": [],
   "source": []
  },
  {
   "cell_type": "code",
   "execution_count": 104,
   "metadata": {},
   "outputs": [
    {
     "name": "stdout",
     "output_type": "stream",
     "text": [
      "8\n",
      "10\n",
      "4\n",
      "6\n",
      "25\n",
      "50\n",
      "400\n"
     ]
    },
    {
     "data": {
      "text/plain": [
       "400"
      ]
     },
     "execution_count": 104,
     "metadata": {},
     "output_type": "execute_result"
    }
   ],
   "source": [
    "#for loopss\n",
    "series = [8, 10, 4, 6]\n",
    "for number in series:\n",
    "    print(number)\n",
    "#sum items across lists\n",
    "def count(crates):\n",
    "    result = 0\n",
    "    for crate in crates:\n",
    "        for number in crate:\n",
    "            result = result + number\n",
    "    return result\n",
    "\n",
    "count([[25,25,25,25],[40,10]])\n",
    "\n",
    "#find biggest item across lists\n",
    "def biggest(crates):\n",
    "    biggest = 0\n",
    "    for crate in crates:\n",
    "        for bunch in crate:\n",
    "            if bunch > biggest:\n",
    "                biggest = bunch\n",
    "                print(biggest)\n",
    "    return biggest\n",
    "\n",
    "biggest([[25,25,25,25],[50,400]])\n",
    "\n"
   ]
  },
  {
   "cell_type": "code",
   "execution_count": null,
   "metadata": {},
   "outputs": [],
   "source": [
    "#Dictionaries use curly brackets {}\n",
    "d = {'a' : 1, 'b' : 2, 'c' : 3}\n",
    "d['a'] #to find the value, in this case 1\n",
    "d['z'] = 4 #to append to dict\n",
    "print(d)\n",
    "'a' in d #for Boolean value\n",
    "\n",
    "for key in d:\n",
    "    print(key)\n",
    "\n",
    "for key in d:\n",
    "    print(key, d[key])\n",
    "\n",
    "for var in d.items():\n",
    "    print(var)\n",
    "\n",
    "for key, value in d.items():\n",
    "    print(key, value)"
   ]
  },
  {
   "cell_type": "code",
   "execution_count": null,
   "metadata": {},
   "outputs": [
    {
     "data": {
      "text/plain": [
       "False"
      ]
     },
     "execution_count": 118,
     "metadata": {},
     "output_type": "execute_result"
    }
   ],
   "source": [
    "#want function should_buy that accepts name of product, price, and valuations\n",
    "#Buys when price is lower than valuation, never buys when there is no valuation\n",
    "#valuations = {'banana':8, 'shell': 4, 'coconut': 13}\n",
    "def should_buy(product, price, valuations):\n",
    "    if product not in valuations:\n",
    "        return False\n",
    "    value = valuations[product]\n",
    "    if price < value:\n",
    "        return True\n",
    "    return False\n",
    "#can replace above three lines with just `return price < value`\n",
    "valuations = {'b':8, 's': 4, 'c': 13}\n",
    "should_buy('plum', 50, valuations)\n"
   ]
  },
  {
   "cell_type": "code",
   "execution_count": null,
   "metadata": {},
   "outputs": [
    {
     "data": {
      "text/plain": [
       "{'b': 100, 'c': 400, 's': 225}"
      ]
     },
     "execution_count": 125,
     "metadata": {},
     "output_type": "execute_result"
    }
   ],
   "source": [
    "#dictionaries\n",
    "def mystery_value(products, valuations):\n",
    "    total_values = {}\n",
    "    for product in products:\n",
    "        stock = products[product]\n",
    "        value = valuations[product]\n",
    "        total_values[product] = stock * value\n",
    "    return total_values\n",
    "    \n",
    "products = {'b':10, 'c': 20, 's': 15}\n",
    "valuations = {'b':10, 'c': 20, 's': 15}\n",
    "mystery_value(products, valuations)"
   ]
  },
  {
   "cell_type": "markdown",
   "metadata": {},
   "source": []
  },
  {
   "cell_type": "code",
   "execution_count": null,
   "metadata": {},
   "outputs": [
    {
     "name": "stdout",
     "output_type": "stream",
     "text": [
      "terry\n",
      "tao\n",
      "Added 10 points to score\n"
     ]
    },
    {
     "data": {
      "text/plain": [
       "terry tao"
      ]
     },
     "execution_count": 35,
     "metadata": {},
     "output_type": "execute_result"
    }
   ],
   "source": [
    "#class lets you build a custom type\n",
    "\n",
    "class Person:\n",
    "    def __init__(self, first, last):\n",
    "        self.first = first\n",
    "        self.last = last\n",
    "        self.score = 0\n",
    "    def add_score(self, points):\n",
    "        print(\"Added\", points, \"points to score\")\n",
    "        self.score = self.score + points\n",
    "        return self.score\n",
    "    \n",
    "    def __repr__(self):\n",
    "        return self.first + \" \" + self.last\n",
    "\n",
    "\n",
    "terry = Person(\"terry\", \"tao\")\n",
    "print(terry.first)\n",
    "print(terry.last)\n",
    "terry.add_score(10)\n",
    "terry"
   ]
  },
  {
   "cell_type": "code",
   "execution_count": 42,
   "metadata": {},
   "outputs": [
    {
     "data": {
      "text/plain": [
       "Trade(2 @ $4)"
      ]
     },
     "execution_count": 42,
     "metadata": {},
     "output_type": "execute_result"
    }
   ],
   "source": [
    "#TradeTracker with class Trade to track price and volume (buy is +ve, sell is -ve)\n",
    "class Trade:\n",
    "    def __init__(self, price: int, volume: int):\n",
    "        self.price = price\n",
    "        self.volume = volume\n",
    "\n",
    "    def is_buy(self):\n",
    "        return self.volume > 0\n",
    "    \n",
    "    def __repr__(self):\n",
    "        return f\"Trade({self.volume} @ ${self.price})\"\n",
    "        # f string is super useful, anything in {} you can write as code\n",
    "        # replaces: return \"Trade(\" + str(self.volume) + \" @ $\" + str(self.price) +\")\"\n",
    "\n",
    "trade = Trade (4,2)\n",
    "trade.is_buy()\n",
    "trade"
   ]
  },
  {
   "cell_type": "code",
   "execution_count": null,
   "metadata": {},
   "outputs": [
    {
     "name": "stdout",
     "output_type": "stream",
     "text": [
      "Price of trade: 7\n"
     ]
    },
    {
     "data": {
      "text/plain": [
       "7.0"
      ]
     },
     "execution_count": 50,
     "metadata": {},
     "output_type": "execute_result"
    }
   ],
   "source": [
    "\n",
    "class TradeTracker:\n",
    "    def __init__(self):\n",
    "        self.trades = []\n",
    "\n",
    "    def add_trade(self, trade: Trade):\n",
    "        self.trades.append(trade)\n",
    "\n",
    "    def get_buy_trades(self):\n",
    "        buy_trades = []\n",
    "        for trade in self.trades:\n",
    "            if trade.is_buy():\n",
    "               buy_trades.append(trade)\n",
    "            else:\n",
    "                print(trade, \"is not a buy\")\n",
    "            return buy_trades\n",
    "\n",
    "    def get_average_traded_price(self):\n",
    "        total = 0\n",
    "        for trade in self.trades:\n",
    "            print(f\"Price of trade: {trade.price}\")\n",
    "            total = total + trade.price\n",
    "        return total / len(self.trades)\n",
    "    \n",
    "tracker = TradeTracker()\n",
    "tracker.add_trade(Trade(7, 4))\n",
    "tracker.get_average_traded_price()"
   ]
  },
  {
   "cell_type": "code",
   "execution_count": null,
   "metadata": {},
   "outputs": [
    {
     "name": "stdout",
     "output_type": "stream",
     "text": [
      "4.714285714285714\n"
     ]
    }
   ],
   "source": []
  },
  {
   "cell_type": "code",
   "execution_count": null,
   "metadata": {},
   "outputs": [],
   "source": []
  }
 ],
 "metadata": {
  "kernelspec": {
   "display_name": "Python 3",
   "language": "python",
   "name": "python3"
  },
  "language_info": {
   "codemirror_mode": {
    "name": "ipython",
    "version": 3
   },
   "file_extension": ".py",
   "mimetype": "text/x-python",
   "name": "python",
   "nbconvert_exporter": "python",
   "pygments_lexer": "ipython3",
   "version": "3.12.4"
  }
 },
 "nbformat": 4,
 "nbformat_minor": 2
}
